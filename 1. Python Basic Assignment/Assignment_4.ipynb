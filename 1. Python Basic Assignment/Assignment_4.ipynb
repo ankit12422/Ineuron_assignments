{
 "cells": [
  {
   "cell_type": "markdown",
   "id": "a20fb7d7",
   "metadata": {},
   "source": [
    "1. What exactly is []?\n",
    "Answer- It is a list. Example- [‘Ankit’,’1995’,’Data Science’] is a list"
   ]
  },
  {
   "cell_type": "markdown",
   "id": "57e417bb",
   "metadata": {},
   "source": [
    "2. In a list of values stored in a variable called spam, how would you assign the value 'hello' as the third value? (Assume [2, 4, 6, 8, 10] are in spam.)"
   ]
  },
  {
   "cell_type": "code",
   "execution_count": 2,
   "id": "bf308e0f",
   "metadata": {},
   "outputs": [],
   "source": [
    "#### Answer-\n",
    "spam= [2,4,6,8,10]\n",
    "spam[2]= 'hello'"
   ]
  },
  {
   "cell_type": "markdown",
   "id": "4b9d4aa9",
   "metadata": {},
   "source": [
    "Let's pretend the spam includes the list ['a', 'b', 'c', 'd'] for the next three queries.\n",
    "\n",
    "3. What is the value of spam[int(int('3' * 2) / 11)]?\n",
    "Answer- d\n",
    "4. What is the value of spam[-1]?\n",
    "Answer- d\n",
    "5. What is the value of spam[:2]?\n",
    "Answer- ['a', 'b']"
   ]
  },
  {
   "cell_type": "markdown",
   "id": "23f62acc",
   "metadata": {},
   "source": [
    "Let's pretend bacon has the list [3.14, 'cat,' 11, 'cat,' True] for the next three questions.\n",
    "\n",
    "6. What is the value of bacon.index('cat')?\n",
    "Answer- 1\n",
    "7. How does bacon.append(99) change the look of the list value in bacon?\n",
    "Answer- [3.14, 'cat', 11, 'cat', True, 99]\n",
    "8. How does bacon.remove('cat') change the look of the list in bacon?\n",
    "Answer - [3.14, 11, 'cat', True] "
   ]
  },
  {
   "cell_type": "markdown",
   "id": "ccf98918",
   "metadata": {},
   "source": [
    "9. What are the list concatenation and list replication operators?\n",
    "Answer- (+) is concatenation and (*) is list replication operators"
   ]
  },
  {
   "cell_type": "markdown",
   "id": "1ecf2d38",
   "metadata": {},
   "source": [
    "10. What is difference between the list methods append() and insert()?\n",
    "Answer- append() adds an item to the end of a list, whereas insert() inserts and item in a defied position in the list.\n"
   ]
  },
  {
   "cell_type": "markdown",
   "id": "6c75ecd4",
   "metadata": {},
   "source": [
    "11. What are the two methods for removing items from a list?\n",
    "Answer- .remove() and .pop()"
   ]
  },
  {
   "cell_type": "markdown",
   "id": "5a0145f9",
   "metadata": {},
   "source": [
    "12. Describe how list values and string values are identical.\n",
    "\n",
    "Answer- Both have a position and use position idex to call a particular object from string or list.\n",
    "\n",
    "Ex- lst= [‘Apple’,5,’Work’]; so lst[2] = ‘Work’\n",
    "\n",
    "Whereas strng= ‘Apple is good’; so strng[4] = e\n"
   ]
  },
  {
   "cell_type": "markdown",
   "id": "a338f661",
   "metadata": {},
   "source": [
    "13. What's the difference between tuples and lists?\n",
    "\n",
    "Answer- tuples are immutable objects, lists are mutable."
   ]
  },
  {
   "cell_type": "markdown",
   "id": "6444d9e8",
   "metadata": {},
   "source": [
    "14. How do you type a tuple value that only contains the integer 42?"
   ]
  },
  {
   "cell_type": "code",
   "execution_count": 6,
   "id": "97ff52ae",
   "metadata": {},
   "outputs": [],
   "source": [
    "######## Answer\n",
    "tuple1 = (42)"
   ]
  },
  {
   "cell_type": "markdown",
   "id": "e538ee41",
   "metadata": {},
   "source": [
    "15. How do you get a list value's tuple form? How do you get a tuple value's list form?"
   ]
  },
  {
   "cell_type": "code",
   "execution_count": 8,
   "id": "b374dc99",
   "metadata": {},
   "outputs": [
    {
     "data": {
      "text/plain": [
       "[0, 1, 2, 3]"
      ]
     },
     "execution_count": 8,
     "metadata": {},
     "output_type": "execute_result"
    }
   ],
   "source": [
    "######## Answer\n",
    "spam= ['a', 'b', 'c', 'd'] \t#### is a list\n",
    "tuple(spam)  \t\t\t\t#### list is converted to tuple\n",
    "tuple1 = (0, 1, 2, 3)\t\t\t#### is a tuple\n",
    "list(tuple1) \t\t\t\t#### tuple is converted to list."
   ]
  },
  {
   "cell_type": "markdown",
   "id": "3d57c3eb",
   "metadata": {},
   "source": [
    "16. Variables that \"contain\" list values are not necessarily lists themselves. Instead, what do they contain?\n",
    "\n",
    "Answer- Variables will contain references to list values"
   ]
  },
  {
   "cell_type": "markdown",
   "id": "6b504546",
   "metadata": {},
   "source": [
    "17. How do you distinguish between copy.copy() and copy.deepcopy()?"
   ]
  },
  {
   "cell_type": "code",
   "execution_count": 11,
   "id": "067717eb",
   "metadata": {},
   "outputs": [],
   "source": [
    "######## Answer\n",
    "import copy\n",
    "a = [1, 2, 3]\n",
    "b = [4, 5, 6]\n",
    "c = [a, b]\n",
    "d = copy.copy(c)               ## This is shallow copy --> so, d is now a new object but d[0] is the same object as c[0].\n",
    "d = copy.deepcopy(c)               ## This is deep copy --> so, d is now a new object and d[0] is now a new object."
   ]
  }
 ],
 "metadata": {
  "kernelspec": {
   "display_name": "Python 3 (ipykernel)",
   "language": "python",
   "name": "python3"
  },
  "language_info": {
   "codemirror_mode": {
    "name": "ipython",
    "version": 3
   },
   "file_extension": ".py",
   "mimetype": "text/x-python",
   "name": "python",
   "nbconvert_exporter": "python",
   "pygments_lexer": "ipython3",
   "version": "3.9.7"
  }
 },
 "nbformat": 4,
 "nbformat_minor": 5
}
